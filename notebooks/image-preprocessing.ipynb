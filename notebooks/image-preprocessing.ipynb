{
 "cells": [
  {
   "cell_type": "markdown",
   "metadata": {},
   "source": [
    "# Image preprocessing"
   ]
  },
  {
   "cell_type": "code",
   "execution_count": 15,
   "metadata": {},
   "outputs": [],
   "source": [
    "import os\n",
    "import string\n",
    "import matplotlib.pyplot as plt\n",
    "import cv2\n",
    "from PIL import Image\n",
    "\n",
    "%matplotlib inline\n",
    "#plt.style.use('fivethirtyeight')\n",
    "#plt.rcParams['figure.facecolor'] = 'w'\n",
    "plt.rcParams['figure.figsize'] = [12, 8]\n",
    "plt.rcParams['font.size'] = 14"
   ]
  },
  {
   "cell_type": "code",
   "execution_count": 2,
   "metadata": {},
   "outputs": [],
   "source": [
    "ROOT = \"../input/\""
   ]
  },
  {
   "cell_type": "code",
   "execution_count": 9,
   "metadata": {},
   "outputs": [],
   "source": [
    "# Random image name generator\n",
    "def get_rand_name(size=30, chars=string.ascii_letters + string.digits):\n",
    "    return ''.join(random.choice(chars) for x in range(size))"
   ]
  },
  {
   "cell_type": "code",
   "execution_count": 10,
   "metadata": {},
   "outputs": [],
   "source": [
    "# Image cropping  \n",
    "def apply_crop(height, width, step_h, step_w,\n",
    "               frame_in_path=None, \n",
    "               mask_in_path=None,\n",
    "               frame_out_path=None,\n",
    "               mask_out_path=None,\n",
    "               center_crop=False):\n",
    "    \n",
    "    if not (os.path.isdir(frame_in_path) and\n",
    "            os.path.isdir(mask_in_path) and\n",
    "            os.path.isdir(frame_out_path) and\n",
    "            os.path.isdir(mask_out_path)):\n",
    "        raise Exception(f\"Failed to load one of the given path\")\n",
    "    if not (height and width):\n",
    "        raise Exception(f\"Dimension not matched ({height}, {width})\")\n",
    "    if not (step_h and step_w):\n",
    "        raise Exception(f\"Step {step_h} or {step_w} not supported\")\n",
    "        \n",
    "    for filename in os.listdir(frame_in_path):\n",
    "        # Load frames and masks from npy source \n",
    "        frame_in = cv2.imread(os.path.join(frame_in_path, filename))\n",
    "        mask_in = np.load(os.path.join(mask_in_path, filename.split('.')[0] + '.npy')) \n",
    "\n",
    "        for w in range(0, width, step_w):\n",
    "            for h in range (0, height, step_h):\n",
    "                frame_out = frame_in[h:h+step_h, w:w+step_w]\n",
    "                mask_out = mask_in[h:h+step_h, w:w+step_w]\n",
    "                rand_name = get_rand_name()\n",
    "                cv2.imwrite(os.path.join(frame_out_path, rand_name + '.png'), frame_out)\n",
    "                cv2.imwrite(os.path.join(mask_out_path, rand_name + '.png'), mask_out)"
   ]
  },
  {
   "cell_type": "code",
   "execution_count": null,
   "metadata": {},
   "outputs": [],
   "source": [
    "# Crop images & mask(npy files)\n",
    "'''\n",
    "apply_crop(720, 1280, 360, 320, \n",
    "          frame_in_path=ROOT + 'source/generated-v2-01/JPEGImages/',\n",
    "          mask_in_path=ROOT + 'source/generated-v2-01/SegmentationClass/', \n",
    "          frame_out_path=ROOT + 'source/sliced-v2-01/images/',\n",
    "          mask_out_path=ROOT + 'source/sliced-v2-01/mask/')\n",
    "'''"
   ]
  },
  {
   "cell_type": "markdown",
   "metadata": {},
   "source": [
    "## Image augmentation using Ablumentations"
   ]
  },
  {
   "cell_type": "code",
   "execution_count": 16,
   "metadata": {},
   "outputs": [],
   "source": [
    "# Augmentation using albumentation \n",
    "# https://albumentations.readthedocs.io/en/latest/examples.html\n",
    "import albumentations as alb\n",
    "import random \n",
    "import numpy as np"
   ]
  },
  {
   "cell_type": "code",
   "execution_count": 21,
   "metadata": {},
   "outputs": [],
   "source": [
    "def apply_augmentation(p=0.7, frame_in_path=None, mask_in_path=None, frame_out_path=None, mask_out_path=None):\n",
    "    # define augmentation pipeline\n",
    "    pipeline = alb.Compose([\n",
    "        alb.VerticalFlip(),\n",
    "        alb.HorizontalFlip(),\n",
    "        alb.ShiftScaleRotate(shift_limit=0.0625, scale_limit=0.2, rotate_limit=45, p=1),\n",
    "        alb.ElasticTransform(border_mode=cv2.BORDER_REFLECT_101, alpha_affine=40, p=1),\n",
    "        alb.OneOf([\n",
    "            alb.GaussianBlur(p=0.7, blur_limit=3),\n",
    "            alb.RandomRain(p=0.7, brightness_coefficient=0.6, drop_width=1, blur_value=5),\n",
    "            alb.RandomSnow(p=0.7, brightness_coeff=1, snow_point_lower=0.3, snow_point_upper=0.5),\n",
    "            alb.RandomShadow(p=0.6, num_shadows_lower=1, num_shadows_upper=1, \n",
    "                            shadow_dimension=5, shadow_roi=(0, 0.5, 1, 1)),\n",
    "            alb.RandomFog(p=0.7, fog_coef_lower=0.7, fog_coef_upper=0.8, alpha_coef=0.1)\n",
    "        ], p=0.8),\n",
    "        alb.OneOf([\n",
    "            alb.CLAHE(clip_limit=2),\n",
    "            alb.IAASharpen(),\n",
    "            alb.IAAEmboss(),\n",
    "            alb.RandomBrightnessContrast(),\n",
    "        ], p=0.6),\n",
    "    ], p=p)\n",
    "    \n",
    "    # Apply pipeline for randomly picked image for 800 trial -> to generate 800 images\n",
    "    for _ in range(800):\n",
    "        # Shuffle out image list\n",
    "        frame_list = os.listdir(frame_in_path)\n",
    "        random.shuffle(frame_list)\n",
    "        index = random.randint(0, len(frame_list)-1)\n",
    "        # Pick one image \n",
    "        frame_id = frame_list[index]\n",
    "        # Apply augmentation to the coosen image\n",
    "        frame_in = cv2.imread(frame_in_path + frame_id)\n",
    "        mask_in = cv2.imread(mask_in_path + frame_id)\n",
    "        # Fit pipeline \n",
    "        augmented = pipeline(image = frame_in, mask = mask_in)\n",
    "        # Get outcomes \n",
    "        frame_out, mask_out = augmented[\"image\"], augmented[\"mask\"]\n",
    "        # Gen. out filename \n",
    "        f_name = get_rand_name()\n",
    "        # Write file to out dir \n",
    "        cv2.imwrite(frame_out_path + f_name + '.png', frame_out)\n",
    "        cv2.imwrite(mask_out_path + f_name + '.png', mask_out)"
   ]
  },
  {
   "cell_type": "code",
   "execution_count": 26,
   "metadata": {},
   "outputs": [],
   "source": [
    "# Same as above, used for experimenting unique trasnformation\n",
    "def apply_augmentation_exp(p=0.9, frame_in_path=None, mask_in_path=None, frame_out_path=None, mask_out_path=None):\n",
    "    # define augmentation pipeline\n",
    "    pipeline = alb.Compose([\n",
    "       alb.RandomRain(p=0.7, brightness_coefficient=0.6, drop_width=1, blur_value=5),\n",
    "    ], p=p)\n",
    "    \n",
    "    # Apply pipeline for x randomly picked images\n",
    "    for _ in range(20):\n",
    "        # Shuffle out image list\n",
    "        frame_list = os.listdir(frame_in_path)\n",
    "        random.shuffle(frame_list)\n",
    "        index = random.randint(0, len(frame_list)-1)\n",
    "        # Pick one image \n",
    "        frame_id = frame_list[index]\n",
    "        # Apply augmentation to the coosen image\n",
    "        frame_in = cv2.imread(frame_in_path + frame_id)\n",
    "        mask_in = cv2.imread(mask_in_path + frame_id)\n",
    "        # Fit pipeline \n",
    "        augmented = pipeline(image = frame_in, mask = mask_in)\n",
    "        # Get outcomes \n",
    "        frame_out, mask_out = augmented[\"image\"], augmented[\"mask\"]\n",
    "        # Gen. out filename \n",
    "        f_name = get_rand_name()\n",
    "        # Write file to out dir \n",
    "        cv2.imwrite(frame_out_path + f_name + '.png', frame_out)\n",
    "        cv2.imwrite(mask_out_path + f_name + '.png', mask_out)\n",
    "        \n",
    "apply_augmentation_exp(p=0.9, \n",
    "                       frame_in_path=ROOT + 'source/sliced-all/images/', \n",
    "                       mask_in_path=ROOT + 'source/sliced-all/mask/', \n",
    "                       frame_out_path=ROOT + 'source/augmented-all/images/', \n",
    "                       mask_out_path=ROOT + 'source/augmented-all/mask/')"
   ]
  },
  {
   "cell_type": "code",
   "execution_count": 23,
   "metadata": {},
   "outputs": [],
   "source": []
  },
  {
   "cell_type": "code",
   "execution_count": null,
   "metadata": {},
   "outputs": [],
   "source": []
  },
  {
   "cell_type": "code",
   "execution_count": null,
   "metadata": {},
   "outputs": [],
   "source": []
  },
  {
   "cell_type": "code",
   "execution_count": null,
   "metadata": {},
   "outputs": [],
   "source": []
  },
  {
   "cell_type": "code",
   "execution_count": null,
   "metadata": {},
   "outputs": [],
   "source": []
  }
 ],
 "metadata": {
  "kernelspec": {
   "display_name": "Python 3.6.7 64-bit ('kgl-367': conda)",
   "language": "python",
   "name": "python36764bitkgl367conda0b3bf86f877f4182ac95d3194f14a1ee"
  },
  "language_info": {
   "codemirror_mode": {
    "name": "ipython",
    "version": 3
   },
   "file_extension": ".py",
   "mimetype": "text/x-python",
   "name": "python",
   "nbconvert_exporter": "python",
   "pygments_lexer": "ipython3",
   "version": "3.6.7"
  }
 },
 "nbformat": 4,
 "nbformat_minor": 4
}
